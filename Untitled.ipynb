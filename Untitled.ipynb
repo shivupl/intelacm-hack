{
 "cells": [
  {
   "cell_type": "code",
   "execution_count": 2,
   "id": "a62b080c-9b66-42f1-ab0d-bfe52576579a",
   "metadata": {},
   "outputs": [],
   "source": [
    "!unzip -q clean_ai.zip -d data/ai"
   ]
  },
  {
   "cell_type": "code",
   "execution_count": 3,
   "id": "139f75de-8bc9-4507-9aae-664feb54f887",
   "metadata": {},
   "outputs": [],
   "source": [
    "!unzip -q clean_rl.zip -d data/real"
   ]
  },
  {
   "cell_type": "code",
   "execution_count": null,
   "id": "2a9da254",
   "metadata": {},
   "outputs": [],
   "source": []
  }
 ],
 "metadata": {
  "kernelspec": {
   "display_name": "Python 3",
   "language": "python",
   "name": "python3"
  },
  "language_info": {
   "codemirror_mode": {
    "name": "ipython",
    "version": 3
   },
   "file_extension": ".py",
   "mimetype": "text/x-python",
   "name": "python",
   "nbconvert_exporter": "python",
   "pygments_lexer": "ipython3",
   "version": "3.10.12"
  }
 },
 "nbformat": 4,
 "nbformat_minor": 5
}
